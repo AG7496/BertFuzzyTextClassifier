{
  "cells": [
    {
      "cell_type": "markdown",
      "source": [
        "#Install libraries"
      ],
      "metadata": {
        "id": "4Y-w-5Amxrtb"
      }
    },
    {
      "cell_type": "code",
      "source": [
        "!pip install tensorflow\n",
        "!pip install transformers\n",
        "!pip install datasets\n",
        "!pip install nltk\n",
        "!pip install scikit-learn"
      ],
      "metadata": {
        "id": "wS6gM0mhxukJ"
      },
      "execution_count": null,
      "outputs": []
    },
    {
      "cell_type": "markdown",
      "source": [
        "#Import libraries"
      ],
      "metadata": {
        "id": "Hw2a8AoruMKj"
      }
    },
    {
      "cell_type": "code",
      "execution_count": null,
      "metadata": {
        "id": "eZLbNtp3vHGc"
      },
      "outputs": [],
      "source": [
        "import numpy as np\n",
        "import tqdm as tq\n",
        "import random\n",
        "\n",
        "import nltk\n",
        "from datasets import Dataset\n",
        "\n",
        "import tensorflow as tf\n",
        "from tensorflow import keras\n",
        "import string \n",
        "\n",
        "import tensorflow as tf\n",
        "import tensorflow_addons as tfa\n",
        "from transformers import AutoTokenizer, TFAutoModel\n",
        "from sklearn.metrics import classification_report\n",
        "\n",
        "\n",
        "nltk.download(\"punkt\")\n",
        "tf.get_logger().setLevel(logging.ERROR)"
      ]
    },
    {
      "cell_type": "markdown",
      "source": [
        "#Initializations"
      ],
      "metadata": {
        "id": "cNk6IUeCuPVU"
      }
    },
    {
      "cell_type": "code",
      "source": [
        "PRETRAINED_MODEL = \"\""
      ],
      "metadata": {
        "id": "uqOjUUVXuSAZ"
      },
      "execution_count": null,
      "outputs": []
    },
    {
      "cell_type": "markdown",
      "source": [
        "#Preprocessing"
      ],
      "metadata": {
        "id": "Pg88XipjvVN7"
      }
    },
    {
      "cell_type": "code",
      "source": [
        "\"Write your preprocessing code here\""
      ],
      "metadata": {
        "id": "GEMOoZe2vXsc"
      },
      "execution_count": null,
      "outputs": []
    },
    {
      "cell_type": "markdown",
      "source": [
        "#Dataloader"
      ],
      "metadata": {
        "id": "z0lkW10luyXk"
      }
    },
    {
      "cell_type": "code",
      "execution_count": null,
      "metadata": {
        "id": "gmfmFZQVExMp"
      },
      "outputs": [],
      "source": [
        "def data_loader():\n",
        "  \"Write your data loader code here\"\n",
        "\n",
        "  return X_train, y_train, X_test, y_test\n",
        "\n",
        "X_train, y_train, X_test, y_test = data_loader()"
      ]
    },
    {
      "cell_type": "markdown",
      "source": [
        "#Embedding model"
      ],
      "metadata": {
        "id": "0YsZuKw8u17T"
      }
    },
    {
      "cell_type": "code",
      "execution_count": null,
      "metadata": {
        "id": "1Uv1r8YYE4Ym"
      },
      "outputs": [],
      "source": [
        "def create_model(lr):\n",
        "  \n",
        "  inputs = tf.keras.layers.Input(shape=(512,), dtype=np.int64)\n",
        "  y = TFAutoModel.from_pretrained(PRETRAINED_MODEL)(inputs)['pooler_output']\n",
        "  y = tf.keras.layers.Dense(128, activation=None)(y)\n",
        "  y = tf.keras.layers.Lambda(lambda x: tf.math.l2_normalize(x, axis=1))(y)\n",
        "  model = tf.keras.Model(inputs, y)\n",
        "\n",
        "  model.compile(\n",
        "    optimizer=tf.keras.optimizers.Adam(lr),\n",
        "    loss=tfa.losses.TripletSemiHardLoss())\n",
        "  \n",
        "  return model\n",
        "\n",
        "es_callback = tf.keras.callbacks.EarlyStopping(monitor='loss', patience=5)\n",
        "model = create_model(2e-4)\n",
        "model.fit(X_train, y_train, validation_data = (X_test, y_test), epochs = 100,\n",
        "          batch_size = 32, callbacks = [es_callback])\n",
        "\n",
        "X_train_new = model.predict(X_train)\n",
        "X_test_new = model.predict(X_test)"
      ]
    },
    {
      "cell_type": "markdown",
      "source": [
        "#Classifier model"
      ],
      "metadata": {
        "id": "Ynz-mK2su8tb"
      }
    },
    {
      "cell_type": "code",
      "execution_count": null,
      "metadata": {
        "id": "wKtLjfrGtwKA"
      },
      "outputs": [],
      "source": [
        "class FuzzyMMC:\n",
        "\n",
        "    def __init__(self, sensitivity=1, exp_bound=1, animate=False):\n",
        "\n",
        "        self.sensitivity = sensitivity\n",
        "        self.hyperboxes = None\n",
        "        self.isanimate = animate\n",
        "        self.classes = np.array([])\n",
        "        self.exp_bound = exp_bound\n",
        "\n",
        "        if self.animate:\n",
        "            self.box_history = []\n",
        "            self.train_patterns = []\n",
        "\n",
        "\n",
        "    def membership(self, pattern):\n",
        "\n",
        "        min_pts = self.hyperboxes[:, 0, :]\n",
        "        max_pts = self.hyperboxes[:, 1, :]\n",
        "\n",
        "        a = np.maximum(0, (1 - np.maximum(0, (self.sensitivity * np.minimum(1, pattern - max_pts)))))\n",
        "        b = np.maximum(0, (1 - np.maximum(0, (self.sensitivity * np.minimum(1, min_pts - pattern)))))\n",
        "\n",
        "        return np.sum(a + b, axis=1) / (2 * len(pattern))\n",
        "\n",
        "\n",
        "    def overlap_contract(self, index):\n",
        "\n",
        "        contracted = False\n",
        "        for test_box in range(len(self.hyperboxes)):\n",
        "\n",
        "            if self.classes[test_box] == self.classes[index]:\n",
        "                continue\n",
        "\n",
        "            expanded_box = self.hyperboxes[index]\n",
        "            box = self.hyperboxes[test_box]\n",
        "\n",
        "            vj, wj = expanded_box\n",
        "            vk, wk = box\n",
        "\n",
        "            delta_new = delta_old = 1\n",
        "            min_overlap_index = -1\n",
        "            for i in range(len(vj)):\n",
        "                if vj[i] < vk[i] < wj[i] < wk[i]:\n",
        "                    delta_new = min(delta_old, wj[i] - vk[i])\n",
        "\n",
        "                elif vk[i] < vj[i] < wk[i] < wj[i]:\n",
        "                    delta_new = min(delta_old, wk[i] - vj[i])\n",
        "\n",
        "                elif vj[i] < vk[i] < wk[i] < wj[i]:\n",
        "                    delta_new = min(delta_old, min(wj[i] - vk[i], wk[i] - vj[i]))\n",
        "\n",
        "                elif vk[i] < vj[i] < wj[i] < wk[i]:\n",
        "                    delta_new = min(delta_old, min(wj[i] - vk[i], wk[i] - vj[i]))\n",
        "\n",
        "                if delta_old - delta_new > 0:\n",
        "                    min_overlap_index = i\n",
        "                    delta_old = delta_new\n",
        "\n",
        "            if min_overlap_index >= 0:\n",
        "                i = min_overlap_index\n",
        "                if vj[i] < vk[i] < wj[i] < wk[i]:\n",
        "                    vk[i] = wj[i] = (vk[i] + wj[i])/2\n",
        "\n",
        "                elif vk[i] < vj[i] < wk[i] < wj[i]:\n",
        "                    vj[i] = wk[i] = (vj[i] + wk[i])/2\n",
        "\n",
        "                elif vj[i] < vk[i] < wk[i] < wj[i]:\n",
        "                    if (wj[i] - vk[i]) > (wk[i] - vj[i]):\n",
        "                        vj[i] = wk[i]\n",
        "\n",
        "                    else:\n",
        "                        wj[i] = vk[i]\n",
        "\n",
        "                elif vk[i] < vj[i] < wj[i] < wk[i]:\n",
        "                    if (wk[i] - vj[i]) > (wj[i] - vk[i]):\n",
        "                        vk[i] = wj[i]\n",
        "\n",
        "                    else:\n",
        "                        wk[i] = vj[i]\n",
        "\n",
        "                self.hyperboxes[test_box] = np.array([vk, wk])\n",
        "                self.hyperboxes[index] = np.array([vj, wj])\n",
        "                contracted = True\n",
        "\n",
        "        return contracted\n",
        "\n",
        "\n",
        "\n",
        "    def train_pattern(self, X, Y):\n",
        "\n",
        "        target = Y\n",
        "\n",
        "        if target not in self.classes:\n",
        "\n",
        "            if self.hyperboxes is not None:\n",
        "                self.hyperboxes = np.vstack((self.hyperboxes, np.array([[X, X]])))\n",
        "                self.classes = np.hstack((self.classes, np.array([target])))\n",
        "\n",
        "            else:\n",
        "                self.hyperboxes = np.array([[X, X]])\n",
        "                self.classes = np.array([target])\n",
        "\n",
        "            if self.isanimate:\n",
        "                self.box_history.append(np.copy(self.hyperboxes))\n",
        "                self.train_patterns.append((X, Y))\n",
        "        else:\n",
        "\n",
        "            memberships = self.membership(X)\n",
        "            memberships[np.where(self.classes != target)] = 0\n",
        "            memberships = sorted(list(enumerate(memberships)), key=lambda x: x[1], reverse=True)\n",
        "\n",
        "            count = 0\n",
        "            while True:\n",
        "                index = memberships[count][0]\n",
        "                min_new = np.minimum(self.hyperboxes[index, 0, :], X)\n",
        "                max_new = np.maximum(self.hyperboxes[index, 1, :], X)\n",
        "\n",
        "                if self.exp_bound * len(np.unique(self.classes)) >= np.sum(max_new - min_new):\n",
        "                    self.hyperboxes[index, 0] = min_new\n",
        "                    self.hyperboxes[index, 1] = max_new\n",
        "                    break\n",
        "                else:\n",
        "                    count += 1\n",
        "\n",
        "                if count == len(memberships):\n",
        "                    self.hyperboxes = np.vstack((self.hyperboxes, np.array([[X, X]])))\n",
        "                    self.classes = np.hstack((self.classes, np.array([target])))\n",
        "                    index = len(self.hyperboxes) - 1\n",
        "                    break\n",
        "\n",
        "            if self.isanimate:\n",
        "                self.box_history.append(np.copy(self.hyperboxes))\n",
        "                self.train_patterns.append((X, Y))\n",
        "\n",
        "            contracted = self.overlap_contract(index)\n",
        "\n",
        "            if self.isanimate and contracted:\n",
        "                self.box_history.append(np.copy(self.hyperboxes))\n",
        "                self.train_patterns.append((X, Y))\n",
        "\n",
        "\n",
        "    def fit(self, X, Y):\n",
        "\n",
        "        for x, y in zip(X, Y):\n",
        "            self.train_pattern(x, y)\n",
        "\n",
        "\n",
        "    def predict(self, X):\n",
        "\n",
        "        classes = np.unique(self.classes)\n",
        "        results = []\n",
        "        memberships = self.membership(X)\n",
        "        max_prediction = 0\n",
        "        pred_class = 0\n",
        "        for _class in classes:\n",
        "            mask = np.zeros((len(self.hyperboxes),))\n",
        "            mask[np.where(self.classes == _class)] = 1\n",
        "            p = memberships * mask\n",
        "            prediction, class_index = np.max(p), np.argmax(p)\n",
        "            if prediction > max_prediction:\n",
        "                max_prediction = prediction\n",
        "                pred_class = class_index\n",
        "\n",
        "        return max_prediction, self.classes[pred_class]\n",
        "\n",
        "\n",
        "    def score(self, X, Y):\n",
        "\n",
        "        count = 0\n",
        "        for x, y in zip(X, Y):\n",
        "            _, pred = self.predict(x)\n",
        "            if y == pred:\n",
        "                count += 1\n",
        "\n",
        "        return count / len(Y)\n"
      ]
    },
    {
      "cell_type": "markdown",
      "source": [
        "#Performance"
      ],
      "metadata": {
        "id": "5Yuj7Jx3vHxa"
      }
    },
    {
      "cell_type": "code",
      "execution_count": null,
      "metadata": {
        "id": "QeJGPeR5uCAy"
      },
      "outputs": [],
      "source": [
        "classifier = FuzzyMMC()\n",
        "classifier.fit(X_train_new, y_train)\n",
        "_, preds = classifier.predict(X_test_new)\n",
        "\n",
        "print(classification_report(y_test, preds))"
      ]
    }
  ],
  "metadata": {
    "accelerator": "GPU",
    "colab": {
      "collapsed_sections": [],
      "provenance": []
    },
    "gpuClass": "standard",
    "kernelspec": {
      "display_name": "Python 3 (ipykernel)",
      "language": "python",
      "name": "python3"
    },
    "language_info": {
      "codemirror_mode": {
        "name": "ipython",
        "version": 3
      },
      "file_extension": ".py",
      "mimetype": "text/x-python",
      "name": "python",
      "nbconvert_exporter": "python",
      "pygments_lexer": "ipython3",
      "version": "3.9.13"
    }
  },
  "nbformat": 4,
  "nbformat_minor": 0
}